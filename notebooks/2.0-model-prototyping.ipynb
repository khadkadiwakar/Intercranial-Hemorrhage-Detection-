{
 "cells": [
  {
   "cell_type": "code",
   "execution_count": 1,
   "id": "947248ea",
   "metadata": {},
   "outputs": [],
   "source": [
    "import os\n",
    "import pandas as pd\n",
    "import numpy as np\n",
    "from sklearn.linear_model import LogisticRegression\n",
    "from sklearn.metrics import accuracy_score, classification_report\n",
    "from tqdm import tqdm"
   ]
  },
  {
   "cell_type": "code",
   "execution_count": 2,
   "id": "69d3a53b",
   "metadata": {},
   "outputs": [],
   "source": [
    "# --- 1. Define Constants and Load Data Splits ---\n",
    "PROCESSED_DATA_DIR = '../data/processed/'\n",
    "train_df = pd.read_csv(os.path.join(PROCESSED_DATA_DIR, 'train.csv'))\n",
    "val_df = pd.read_csv(os.path.join(PROCESSED_DATA_DIR, 'val.csv'))"
   ]
  },
  {
   "cell_type": "code",
   "execution_count": 3,
   "id": "cb9ad36f",
   "metadata": {},
   "outputs": [],
   "source": [
    "# --- 2. Create a Function to Load and Flatten Images ---\n",
    "def load_data_and_flatten(dataframe):\n",
    "    \"\"\"\n",
    "    Loads .npy image files listed in a dataframe and flattens them into 1D vectors.\n",
    "    \"\"\"\n",
    "    # Get the project root directory to build absolute paths\n",
    "    project_root = os.path.abspath(os.path.join(PROCESSED_DATA_DIR, '..', '..'))\n",
    "    \n",
    "    images = []\n",
    "    labels = []\n",
    "    \n",
    "    for idx, row in tqdm(dataframe.iterrows(), total=len(dataframe), desc=\"Loading data\"):\n",
    "        # Construct absolute path to the image\n",
    "        img_path = os.path.join(project_root, row['filepath'])\n",
    "        \n",
    "        # Load the processed .npy image array\n",
    "        img_array = np.load(img_path)\n",
    "        \n",
    "        # Flatten the 2D image (128x128) into a 1D vector (16384)\n",
    "        images.append(img_array.flatten())\n",
    "        labels.append(row['label'])\n",
    "        \n",
    "    return np.array(images), np.array(labels)"
   ]
  },
  {
   "cell_type": "code",
   "execution_count": 4,
   "id": "4810cf40",
   "metadata": {},
   "outputs": [
    {
     "name": "stdout",
     "output_type": "stream",
     "text": [
      "Preparing training data...\n"
     ]
    },
    {
     "name": "stderr",
     "output_type": "stream",
     "text": [
      "Loading data: 100%|██████████| 1750/1750 [00:00<00:00, 5801.73it/s]\n"
     ]
    },
    {
     "name": "stdout",
     "output_type": "stream",
     "text": [
      "\n",
      "Preparing validation data...\n"
     ]
    },
    {
     "name": "stderr",
     "output_type": "stream",
     "text": [
      "Loading data: 100%|██████████| 375/375 [00:00<00:00, 4884.41it/s]"
     ]
    },
    {
     "name": "stdout",
     "output_type": "stream",
     "text": [
      "\n",
      "Training data shape: (1750, 16384)\n",
      "Validation data shape: (375, 16384)\n"
     ]
    },
    {
     "name": "stderr",
     "output_type": "stream",
     "text": [
      "\n"
     ]
    }
   ],
   "source": [
    "# --- 3. Prepare Training and Validation Sets ---\n",
    "print(\"Preparing training data...\")\n",
    "X_train, y_train = load_data_and_flatten(train_df)\n",
    "\n",
    "print(\"\\nPreparing validation data...\")\n",
    "X_val, y_val = load_data_and_flatten(val_df)\n",
    "\n",
    "print(f\"\\nTraining data shape: {X_train.shape}\")\n",
    "print(f\"Validation data shape: {X_val.shape}\")"
   ]
  },
  {
   "cell_type": "code",
   "execution_count": 5,
   "id": "c3f3a6ef",
   "metadata": {},
   "outputs": [
    {
     "name": "stdout",
     "output_type": "stream",
     "text": [
      "\n",
      "Training Logistic Regression model...\n",
      "Model training complete.\n"
     ]
    }
   ],
   "source": [
    "# --- 4. Train the Logistic Regression Model ---\n",
    "print(\"\\nTraining Logistic Regression model...\")\n",
    "\n",
    "# Initialize the model\n",
    "# max_iter is increased to ensure the model converges with this many features\n",
    "model = LogisticRegression(max_iter=1000, random_state=42)\n",
    "\n",
    "# Train the model\n",
    "model.fit(X_train, y_train)\n",
    "\n",
    "print(\"Model training complete.\")"
   ]
  },
  {
   "cell_type": "code",
   "execution_count": 6,
   "id": "e9da5446",
   "metadata": {},
   "outputs": [
    {
     "name": "stdout",
     "output_type": "stream",
     "text": [
      "\n",
      "Evaluating model on the validation set...\n",
      "\n",
      "Validation Accuracy: 0.9387\n",
      "\n",
      "Classification Report:\n",
      "                precision    recall  f1-score   support\n",
      "\n",
      "    Normal (0)       0.96      0.97      0.96       328\n",
      "Hemorrhage (1)       0.76      0.74      0.75        47\n",
      "\n",
      "      accuracy                           0.94       375\n",
      "     macro avg       0.86      0.86      0.86       375\n",
      "  weighted avg       0.94      0.94      0.94       375\n",
      "\n"
     ]
    }
   ],
   "source": [
    "# --- 5. Evaluate the Model ---\n",
    "print(\"\\nEvaluating model on the validation set...\")\n",
    "\n",
    "# Make predictions on the validation data\n",
    "y_pred = model.predict(X_val)\n",
    "\n",
    "# Calculate and print accuracy\n",
    "accuracy = accuracy_score(y_val, y_pred)\n",
    "print(f\"\\nValidation Accuracy: {accuracy:.4f}\")\n",
    "\n",
    "# Print a detailed classification report\n",
    "print(\"\\nClassification Report:\")\n",
    "print(classification_report(y_val, y_pred, target_names=['Normal (0)', 'Hemorrhage (1)']))"
   ]
  }
 ],
 "metadata": {
  "kernelspec": {
   "display_name": "Python 3",
   "language": "python",
   "name": "python3"
  },
  "language_info": {
   "codemirror_mode": {
    "name": "ipython",
    "version": 3
   },
   "file_extension": ".py",
   "mimetype": "text/x-python",
   "name": "python",
   "nbconvert_exporter": "python",
   "pygments_lexer": "ipython3",
   "version": "3.11.9"
  }
 },
 "nbformat": 4,
 "nbformat_minor": 5
}
